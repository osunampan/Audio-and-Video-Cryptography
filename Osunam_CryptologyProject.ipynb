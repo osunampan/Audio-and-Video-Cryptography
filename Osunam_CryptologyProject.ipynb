{
  "nbformat": 4,
  "nbformat_minor": 0,
  "metadata": {
    "colab": {
      "provenance": [],
      "collapsed_sections": []
    },
    "kernelspec": {
      "name": "python3",
      "display_name": "Python 3"
    },
    "language_info": {
      "name": "python"
    }
  },
  "cells": [
    {
      "cell_type": "markdown",
      "source": [
        "# WELCOME TO CRYPTOLOGY PROJECT\n",
        "\n",
        "# GETTING READY\n",
        "- Please kindly upload a mp4 file for testing video and .wav file for testing Audio using the upload button [upper arrow] in left hand side. \n",
        "\n",
        "- once uploaded you can see your files alongside sample_data\n",
        "\n",
        "- For ease, i also provided each of these files - .mp4 and .wav for testing.\n",
        "\n",
        "# RUNNING NOTEBOOK\n",
        "\n",
        "- You can run the notebook by just clicking on Runtime > Run all. These will run all cells one by one and you dont need to run for each cell.\n",
        "\n",
        "- ** Please note on your first run - you will encounter AttributeError: module 'PIL.TiffTags' has no attribute 'IFD' for video. Hence please re-run the notebook again. because the library needs to re run once its installed. It will work fine once you re-run.**\n",
        "\n",
        "- After you encrypt please refresh once to see the encrypted file.\n",
        "\n",
        "#AUDIO STEGANOGRAPHY\n",
        " - The type of audio file used must be a \".wav\" file because wav is one of the most popular lossless compression format.\n",
        "\n",
        "\n",
        "#VIDEO STEGANOGRAPHY\n",
        " - The type of video file i used for testing is .mp4. however i tested with .mov for encryption and it seems to work fine as well. but mp4 for encryption is preferred. For decryption it already generates the .mov file.\n",
        "\n",
        " - Also please note that in order to view the encrypted video, the computer must have a mov player, if not you can always convert the encrypted mov video to mp4 and can see no significant change \n",
        "\n",
        "\n"
      ],
      "metadata": {
        "id": "O1ckTFWbq1y5"
      }
    },
    {
      "cell_type": "markdown",
      "source": [
        "# INSTALLATIONS"
      ],
      "metadata": {
        "id": "owBkwS_By8B1"
      }
    },
    {
      "cell_type": "code",
      "source": [
        "!pip install stegano "
      ],
      "metadata": {
        "colab": {
          "base_uri": "https://localhost:8080/",
          "height": 346
        },
        "id": "P-Ipf01VzFSe",
        "outputId": "0d9a4b80-10fb-453f-8aa5-1062c4d57635"
      },
      "execution_count": null,
      "outputs": [
        {
          "output_type": "stream",
          "name": "stdout",
          "text": [
            "Requirement already satisfied: stegano in /usr/local/lib/python3.7/dist-packages (0.9.9)\n",
            "Collecting pillow<9.0.0,>=8.2.0\n",
            "  Using cached Pillow-8.4.0-cp37-cp37m-manylinux_2_17_x86_64.manylinux2014_x86_64.whl (3.1 MB)\n",
            "Requirement already satisfied: crayons<0.5.0,>=0.4.0 in /usr/local/lib/python3.7/dist-packages (from stegano) (0.4.0)\n",
            "Requirement already satisfied: piexif<2.0.0,>=1.1.3 in /usr/local/lib/python3.7/dist-packages (from stegano) (1.1.3)\n",
            "Requirement already satisfied: colorama in /usr/local/lib/python3.7/dist-packages (from crayons<0.5.0,>=0.4.0->stegano) (0.4.4)\n",
            "Installing collected packages: pillow\n",
            "  Attempting uninstall: pillow\n",
            "    Found existing installation: Pillow 9.1.1\n",
            "    Uninstalling Pillow-9.1.1:\n",
            "      Successfully uninstalled Pillow-9.1.1\n",
            "\u001b[31mERROR: pip's dependency resolver does not currently take into account all the packages that are installed. This behaviour is the source of the following dependency conflicts.\n",
            "albumentations 0.1.12 requires imgaug<0.2.7,>=0.2.5, but you have imgaug 0.2.9 which is incompatible.\u001b[0m\n",
            "Successfully installed pillow-8.4.0\n"
          ]
        },
        {
          "output_type": "display_data",
          "data": {
            "application/vnd.colab-display-data+json": {
              "pip_warning": {
                "packages": [
                  "PIL"
                ]
              }
            }
          },
          "metadata": {}
        }
      ]
    },
    {
      "cell_type": "code",
      "source": [
        "!pip uninstall -y Pillow"
      ],
      "metadata": {
        "colab": {
          "base_uri": "https://localhost:8080/"
        },
        "id": "HrQ6A0Enetq5",
        "outputId": "e19808a6-7b30-4dd7-85ff-75fc13ff63cd"
      },
      "execution_count": null,
      "outputs": [
        {
          "output_type": "stream",
          "name": "stdout",
          "text": [
            "Found existing installation: Pillow 8.4.0\n",
            "Uninstalling Pillow-8.4.0:\n",
            "  Successfully uninstalled Pillow-8.4.0\n"
          ]
        }
      ]
    },
    {
      "cell_type": "code",
      "source": [
        "!pip install -U pillow"
      ],
      "metadata": {
        "colab": {
          "base_uri": "https://localhost:8080/",
          "height": 225
        },
        "id": "GmH78zVde45B",
        "outputId": "4bbb6913-e36e-4c92-c4fd-08cd677a91f5"
      },
      "execution_count": null,
      "outputs": [
        {
          "output_type": "stream",
          "name": "stdout",
          "text": [
            "Collecting pillow\n",
            "  Using cached Pillow-9.1.1-cp37-cp37m-manylinux_2_17_x86_64.manylinux2014_x86_64.whl (3.1 MB)\n",
            "Installing collected packages: pillow\n",
            "\u001b[31mERROR: pip's dependency resolver does not currently take into account all the packages that are installed. This behaviour is the source of the following dependency conflicts.\n",
            "stegano 0.9.9 requires pillow<9.0.0,>=8.2.0, but you have pillow 9.1.1 which is incompatible.\n",
            "albumentations 0.1.12 requires imgaug<0.2.7,>=0.2.5, but you have imgaug 0.2.9 which is incompatible.\u001b[0m\n",
            "Successfully installed pillow-9.1.1\n"
          ]
        },
        {
          "output_type": "display_data",
          "data": {
            "application/vnd.colab-display-data+json": {
              "pip_warning": {
                "packages": [
                  "PIL"
                ]
              }
            }
          },
          "metadata": {}
        }
      ]
    },
    {
      "cell_type": "code",
      "source": [
        "!sudo apt install tesseract-ocr"
      ],
      "metadata": {
        "colab": {
          "base_uri": "https://localhost:8080/"
        },
        "id": "7b-HrNp0cQLV",
        "outputId": "95628a7d-adf6-4b44-d428-1be6f81665f4"
      },
      "execution_count": null,
      "outputs": [
        {
          "output_type": "stream",
          "name": "stdout",
          "text": [
            "Reading package lists... Done\n",
            "Building dependency tree       \n",
            "Reading state information... Done\n",
            "tesseract-ocr is already the newest version (4.00~git2288-10f4998a-2).\n",
            "The following package was automatically installed and is no longer required:\n",
            "  libnvidia-common-460\n",
            "Use 'sudo apt autoremove' to remove it.\n",
            "0 upgraded, 0 newly installed, 0 to remove and 42 not upgraded.\n"
          ]
        }
      ]
    },
    {
      "cell_type": "code",
      "source": [
        "!pip install pytesseract"
      ],
      "metadata": {
        "colab": {
          "base_uri": "https://localhost:8080/"
        },
        "id": "2W4Ts7RWKzC2",
        "outputId": "ff402752-1766-4cfe-fcbc-2b5ec4ae88db"
      },
      "execution_count": null,
      "outputs": [
        {
          "output_type": "stream",
          "name": "stdout",
          "text": [
            "Requirement already satisfied: pytesseract in /usr/local/lib/python3.7/dist-packages (0.3.9)\n",
            "Requirement already satisfied: Pillow>=8.0.0 in /usr/local/lib/python3.7/dist-packages (from pytesseract) (9.1.1)\n",
            "Requirement already satisfied: packaging>=21.3 in /usr/local/lib/python3.7/dist-packages (from pytesseract) (21.3)\n",
            "Requirement already satisfied: pyparsing!=3.0.5,>=2.0.2 in /usr/local/lib/python3.7/dist-packages (from packaging>=21.3->pytesseract) (3.0.9)\n"
          ]
        }
      ]
    },
    {
      "cell_type": "code",
      "source": [
        "!pip install pytesseract"
      ],
      "metadata": {
        "colab": {
          "base_uri": "https://localhost:8080/"
        },
        "id": "qA2U607yLFcY",
        "outputId": "d8ff4fff-ec8b-4da6-8091-e94f1f482596"
      },
      "execution_count": null,
      "outputs": [
        {
          "output_type": "stream",
          "name": "stdout",
          "text": [
            "Requirement already satisfied: pytesseract in /usr/local/lib/python3.7/dist-packages (0.3.9)\n",
            "Requirement already satisfied: Pillow>=8.0.0 in /usr/local/lib/python3.7/dist-packages (from pytesseract) (9.1.1)\n",
            "Requirement already satisfied: packaging>=21.3 in /usr/local/lib/python3.7/dist-packages (from pytesseract) (21.3)\n",
            "Requirement already satisfied: pyparsing!=3.0.5,>=2.0.2 in /usr/local/lib/python3.7/dist-packages (from packaging>=21.3->pytesseract) (3.0.9)\n"
          ]
        }
      ]
    },
    {
      "cell_type": "markdown",
      "source": [
        "# VIDEO STEGANOGRAPHY - ENCRYPTION AND DECRYPTION\n",
        "\n",
        "\n",
        "\n"
      ],
      "metadata": {
        "id": "2N4WPzUDae8W"
      }
    },
    {
      "cell_type": "code",
      "source": [
        "from stegano import lsb\n",
        "from os.path import isfile,join\n",
        "\n",
        "import math\n",
        "import time                                                                 \n",
        "import cv2\n",
        "import numpy as np\n",
        "import os\n",
        "import shutil\n",
        "from subprocess import call,STDOUT\n",
        "\n",
        "\n",
        "#function to extract frames in png format from the video file and store in a temporary folder\n",
        "def extract_VideoFrames(video):\n",
        "    if not os.path.exists(\"./temporary_folder\"):\n",
        "      os.makedirs(\"temporary_folder\")\n",
        "    temp_folder=\"./temporary_folder\"\n",
        "   \n",
        "    vidcap = cv2.VideoCapture(video)\n",
        "    count = 0\n",
        "\n",
        "    while True:\n",
        "        success, image = vidcap.read()\n",
        "        if not success:\n",
        "            break\n",
        "        cv2.imwrite(os.path.join(temp_folder, \"{:d}.png\".format(count)), image)\n",
        "        count += 1\n",
        "\n",
        "#function that helps to split the secret message into letter or bytes to allocate to the frames.\n",
        "def split_secret(msg,count=10):\n",
        "    per_c=math.ceil(len(msg)/count)\n",
        "    c_cout=0\n",
        "    out_str=''\n",
        "    split_list=[]\n",
        "    for s in msg:\n",
        "        out_str+=s\n",
        "        c_cout+=1\n",
        "        if c_cout == per_c:\n",
        "            split_list.append(out_str)\n",
        "            out_str=''\n",
        "            c_cout=0\n",
        "    if c_cout!=0:\n",
        "        split_list.append(out_str)\n",
        "    return split_list\n",
        "\n",
        "# the least significant bit of the png frame is replaced with the secret message bit\n",
        "def encrypt_text(secret_text,root=\"./temporary_folder/\"):\n",
        "    split_text_list=split_secret(secret_text)\n",
        "    for i in range(0,len(split_text_list)):\n",
        "        video_file=\"{}{}.png\".format(root,i)\n",
        "        secret_enc=lsb.hide(video_file,split_text_list[i])\n",
        "        secret_enc.save(video_file)\n",
        "        print(\"[INFO] frame {} holds {}\".format(video_file,split_text_list[i]))\n",
        "\n",
        "# function that helps to decrypt the video and get the secret message       \n",
        "def decrypt_video(video):\n",
        "    extract_VideoFrames(video)   # extract video into frames\n",
        "    secret=[]\n",
        "    root=\"./temporary_folder/\"\n",
        "    for i in range(len(os.listdir(root))):\n",
        "        video_file=\"{}{}.png\".format(root,i)\n",
        "        secret_dec=lsb.reveal(video_file)    # gets the secret code\n",
        "        if secret_dec == None:\n",
        "            break\n",
        "        secret.append(secret_dec)  # joins all the letter to find the message\n",
        "    print('The secret message is:')\n",
        "    print(''.join([i for i in secret]))\n",
        "    clean_temp_file()\n",
        "\n",
        "\n",
        "def clean_temp_file(path=\"./temporary_folder\"):\n",
        "    if os.path.exists(path):\n",
        "        shutil.rmtree(path)\n",
        "        # print(\"\\n [INFO] Deleting temporary folder\")\n",
        "\n",
        "# function to encrpt the video \n",
        "def encrypt_video():\n",
        "    secret_text = input(\"Enter the secret message :\")\n",
        "    video_file=input(\"enter the name of video with extention: \")\n",
        "    extract_VideoFrames(video_file)                #extracts the frames from the video\n",
        "    print(os.getcwd())\n",
        "    # extrating audio from the video \n",
        "    call([\"ffmpeg\", \"-i\",video_file, \"-q:a\", \"0\", \"-map\", \"a\", \"temporary_folder/audio.mp3\", \"-y\"],stdout=open(os.devnull, \"w\"), stderr=STDOUT)\n",
        "    encrypt_text(secret_text)\n",
        "    call([\"ffmpeg\", \"-i\", \"temporary_folder/%d.png\" , \"-vcodec\", \"png\", \"temporary_folder/Encrypted_video.mov\", \"-y\"],stdout=open(os.devnull, \"w\"), stderr=STDOUT)\n",
        "    \n",
        "    #join the frames, audio together to form the encrypted video with sound\n",
        "    call([\"ffmpeg\", \"-i\", \"temporary_folder/Encrypted_video.mov\", \"-i\", \"temporary_folder/audio.mp3\", \"-codec\", \"copy\", \"Encrypted_video.mov\", \"-y\"],stdout=open(os.devnull, \"w\"), stderr=STDOUT)\n",
        "    clean_temp_file()\n",
        "    print(\"Successfully encrypted video with text to Encrypted_video.mov\")\n",
        "\n",
        "#main entry point of the code\n",
        "if __name__ == \"__main__\":\n",
        "    while True:\n",
        "        print(\"\\n What would you like to do?\" \"\\n1.Hide a secret message in video \"  \"\\n2.Reveal the secret message from Video\" \"\\n3.Enter to exit\\n\")\n",
        "        choice = input()\n",
        "        if choice == '1':\n",
        "            encrypt_video()\n",
        "        elif choice == '2':\n",
        "            decrypt_video(input(\"Enter video name with extension\"))\n",
        "        else:\n",
        "            break"
      ],
      "metadata": {
        "colab": {
          "base_uri": "https://localhost:8080/"
        },
        "id": "WxJpdGR1acAv",
        "outputId": "27b802b8-7a70-4c29-a913-a9f08ab442a0"
      },
      "execution_count": null,
      "outputs": [
        {
          "output_type": "stream",
          "name": "stdout",
          "text": [
            "\n",
            " What would you like to do?\n",
            "1.Hide a secret message in video \n",
            "2.Reveal the secret message from Video\n",
            "3.Enter to exit\n",
            "\n",
            "2\n",
            "Enter video name with extensionEncrypted_video.mov\n",
            "The secret message is:\n",
            "Very secret message\n",
            "\n",
            " What would you like to do?\n",
            "1.Hide a secret message in video \n",
            "2.Reveal the secret message from Video\n",
            "3.Enter to exit\n",
            "\n"
          ]
        }
      ]
    },
    {
      "cell_type": "markdown",
      "source": [
        "# AUDIO STEGANOGRAPHY - ENCRYPTION AND DECRYPTION"
      ],
      "metadata": {
        "id": "7T-fawXzbYf0"
      }
    },
    {
      "cell_type": "code",
      "source": [
        "import wave   # this library helps to deal with the audio file .wav\n",
        "\n",
        "def encrypt_audio(audio, secret):   #function to encrypt the audio with text\n",
        "\tprint(\"\\n Encoding Audio..\")\n",
        "\taudio = wave.open(audio,mode=\"rb\")\n",
        "\tframe_bytes = bytearray(list(audio.readframes(audio.getnframes())))   #divides the audio into frames - bytes\n",
        "\t# secret = str(secret_message)\n",
        "\t# print(secret)\n",
        "\tsecret = secret + int((len(frame_bytes)-(len(secret)*8*8))/8) *'#'\n",
        "\tbits = list(map(int, ''.join([bin(ord(i)).lstrip('0b').rjust(8,'0') for i in secret])))  #maps the audio byte with the secret text bit in lsb\n",
        "\tfor i, bit in enumerate(bits):                                            \n",
        "\t    frame_bytes[i] = (frame_bytes[i] & 254) | bit\n",
        "\tmodify_frame = bytes(frame_bytes)        #\n",
        "\t# for i in range(0,10):\n",
        "\t# \tprint(frame_bytes[i])\n",
        "\tEncryptedAudio =  wave.open('Encrypted_Audio.wav', 'wb')\n",
        "\tEncryptedAudio.setparams(audio.getparams())\n",
        "\tEncryptedAudio.writeframes(modify_frame)\n",
        "\n",
        "\tEncryptedAudio.close()\n",
        "\taudio.close()\n",
        "\tprint(\"Successfully encrypted audio with text to Encrypted_Audio.wav\")\n",
        "\n",
        "def decrypt_audio(audio):                #function to decrypt the audio and get the secret message\n",
        "\tprint(\"\\n Decoding Audio..\")\n",
        "\taudio = wave.open(audio, mode='rb')\n",
        "\tframe_bytes = bytearray(list(audio.readframes(audio.getnframes())))         # gets a list which has frames extracted from the audio\n",
        "\textracted_audio = [frame_bytes[i] & 1 for i in range(len(frame_bytes))]\n",
        "\tsecret = \"\".join(chr(int(\"\".join(map(str,extracted_audio[i:i+8])),2)) for i in range(0,len(extracted_audio),8))  #joins all the letters of the text\n",
        "\tdecoded = secret.split(\"###\")[0]\n",
        "\tprint(\"Sucessfully decoded - The secret Message is : \"+decoded)\n",
        "\taudio.close()\t\n",
        " \n",
        "def call_encrypt_audio_function():  # an additional function i made to take input from user.\n",
        "    secret_message = input(\"Enter the secret message :\")\n",
        "    audio_file=input(\"Enter the name of Audio file to encrypt: \")\n",
        "    encrypt_audio(audio_file, secret_message)\n",
        "\n",
        "\n",
        "#this is the main function - entry point.\n",
        "if __name__ == \"__main__\":\n",
        "    while True:\n",
        "        print(\"What would you like to do?\" \"\\n1.Hide a message in Audio\"  \"\\n2.Reveal the secret from Audio\" \"\\n3.Enter to exit\")\n",
        "        choice = input()\n",
        "        if choice == '1':\n",
        "            call_encrypt_audio_function()\n",
        "        elif choice == '2':\n",
        "            decrypt_audio(input(\"enter the name of audio with extension\"))\n",
        "        else:\n",
        "            break"
      ],
      "metadata": {
        "colab": {
          "base_uri": "https://localhost:8080/"
        },
        "id": "RfbAlUI_bZoR",
        "outputId": "a1a74771-ecd5-4b6b-8dd6-d5fe22df3068"
      },
      "execution_count": null,
      "outputs": [
        {
          "name": "stdout",
          "output_type": "stream",
          "text": [
            "What would you like to do?\n",
            "1.Hide a message in Audio\n",
            "2.Reveal the secret from Audio\n",
            "3.Enter to exit\n",
            "\n"
          ]
        }
      ]
    }
  ]
}
